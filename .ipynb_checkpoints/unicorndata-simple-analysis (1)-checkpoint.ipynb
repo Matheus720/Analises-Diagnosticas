{
 "cells": [
  {
   "cell_type": "markdown",
   "metadata": {},
   "source": [
    "## Framing Some Simple Questions\n",
    "- Country wise unicorns\n",
    "- Dominant Cities in producing unicorns\n",
    "- Which industry producing more unicorns\n",
    "- Valuation range of Unicorn companies\n",
    "- Year wise pattern of companies being unicorn"
   ]
  },
  {
   "cell_type": "markdown",
   "metadata": {},
   "source": [
    "Ideas that i did not thought of...\n",
    "1) Converting Investors columns into multiple columns with investor name - Done<br>\n",
    "2) Group by the data by year and then do the analysis - Done<br>\n",
    "3) Select dataframes only for top countries to go granular - Done<br>\n",
    "4) Current year analysis - Done<br>"
   ]
  },
  {
   "cell_type": "markdown",
   "metadata": {},
   "source": [
    "Data Set Link - https://www.kaggle.com/datasets/ramjasmaurya/unicorn-startups"
   ]
  },
  {
   "cell_type": "markdown",
   "metadata": {},
   "source": [
    "### Unicorn - Term in venture capital industry to describe privately held startup company having value of more than  \\$1B\n",
    "\n"
   ]
  },
  {
   "cell_type": "code",
   "execution_count": null,
   "metadata": {
    "execution": {
     "iopub.execute_input": "2022-08-28T09:21:47.31437Z",
     "iopub.status.busy": "2022-08-28T09:21:47.313929Z",
     "iopub.status.idle": "2022-08-28T09:21:47.328555Z",
     "shell.execute_reply": "2022-08-28T09:21:47.327179Z",
     "shell.execute_reply.started": "2022-08-28T09:21:47.314332Z"
    }
   },
   "outputs": [],
   "source": [
    "import pandas as pd\n",
    "import numpy as np\n",
    "\n",
    "df = pd.read_csv(\"../input/unicorn-startups/unicorns till august 2022.csv\")"
   ]
  },
  {
   "cell_type": "code",
   "execution_count": null,
   "metadata": {
    "execution": {
     "iopub.execute_input": "2022-08-28T09:21:58.202281Z",
     "iopub.status.busy": "2022-08-28T09:21:58.201055Z",
     "iopub.status.idle": "2022-08-28T09:21:58.218451Z",
     "shell.execute_reply": "2022-08-28T09:21:58.217478Z",
     "shell.execute_reply.started": "2022-08-28T09:21:58.20222Z"
    }
   },
   "outputs": [],
   "source": [
    "df['Valuation ($B)'] = df['Valuation ($B)'].str.replace(r'$','',regex=True).astype(float)"
   ]
  },
  {
   "cell_type": "code",
   "execution_count": null,
   "metadata": {
    "execution": {
     "iopub.execute_input": "2022-08-28T09:22:02.898851Z",
     "iopub.status.busy": "2022-08-28T09:22:02.898358Z",
     "iopub.status.idle": "2022-08-28T09:22:02.998973Z",
     "shell.execute_reply": "2022-08-28T09:22:02.997627Z",
     "shell.execute_reply.started": "2022-08-28T09:22:02.898805Z"
    }
   },
   "outputs": [],
   "source": [
    "df['Date Joined'] = pd.to_datetime(df['Date Joined'])\n",
    "df['Date Joined'] = df['Date Joined'].dt.year\n",
    "df = df.rename(columns = {'City\\xa0':'City'})"
   ]
  },
  {
   "cell_type": "code",
   "execution_count": null,
   "metadata": {
    "execution": {
     "iopub.execute_input": "2022-08-28T09:22:07.652989Z",
     "iopub.status.busy": "2022-08-28T09:22:07.652543Z",
     "iopub.status.idle": "2022-08-28T09:22:07.671669Z",
     "shell.execute_reply": "2022-08-28T09:22:07.670695Z",
     "shell.execute_reply.started": "2022-08-28T09:22:07.652952Z"
    }
   },
   "outputs": [],
   "source": [
    "investors = df['Investors'].str.split(\",\",expand=True)\n",
    "investors = investors.rename(columns = {0:'Investor 1', 1:'Investor 2', 2:'Investor 3', 3:'Investor 4'})\n",
    "df = df.drop(columns=['Investors'])\n",
    "df = pd.concat([df, investors],axis=1)"
   ]
  },
  {
   "cell_type": "code",
   "execution_count": null,
   "metadata": {
    "execution": {
     "iopub.execute_input": "2022-08-28T09:22:14.333028Z",
     "iopub.status.busy": "2022-08-28T09:22:14.332607Z",
     "iopub.status.idle": "2022-08-28T09:22:14.352448Z",
     "shell.execute_reply": "2022-08-28T09:22:14.351177Z",
     "shell.execute_reply.started": "2022-08-28T09:22:14.332988Z"
    }
   },
   "outputs": [],
   "source": [
    "df['Country'].value_counts().nlargest(5)/len(df)*100"
   ]
  },
  {
   "cell_type": "code",
   "execution_count": null,
   "metadata": {
    "execution": {
     "iopub.execute_input": "2022-08-28T09:22:16.301166Z",
     "iopub.status.busy": "2022-08-28T09:22:16.300701Z",
     "iopub.status.idle": "2022-08-28T09:22:16.312464Z",
     "shell.execute_reply": "2022-08-28T09:22:16.311344Z",
     "shell.execute_reply.started": "2022-08-28T09:22:16.301125Z"
    },
    "scrolled": true
   },
   "outputs": [],
   "source": [
    "df['Industry'].value_counts().nlargest(5)/len(df)*100"
   ]
  },
  {
   "cell_type": "code",
   "execution_count": null,
   "metadata": {
    "execution": {
     "iopub.execute_input": "2022-08-28T09:22:18.692221Z",
     "iopub.status.busy": "2022-08-28T09:22:18.690978Z",
     "iopub.status.idle": "2022-08-28T09:22:19.665488Z",
     "shell.execute_reply": "2022-08-28T09:22:19.663573Z",
     "shell.execute_reply.started": "2022-08-28T09:22:18.692158Z"
    }
   },
   "outputs": [],
   "source": [
    "import seaborn as sns\n",
    "import matplotlib.pyplot as plt\n",
    "plt.figure(figsize=(12,5))\n",
    "sns.countplot(x = df['Country'], order = df['Country'].value_counts().nlargest(10).index)"
   ]
  },
  {
   "cell_type": "code",
   "execution_count": null,
   "metadata": {
    "execution": {
     "iopub.execute_input": "2022-08-28T09:22:21.187843Z",
     "iopub.status.busy": "2022-08-28T09:22:21.187394Z",
     "iopub.status.idle": "2022-08-28T09:22:21.451914Z",
     "shell.execute_reply": "2022-08-28T09:22:21.450738Z",
     "shell.execute_reply.started": "2022-08-28T09:22:21.187793Z"
    }
   },
   "outputs": [],
   "source": [
    "plt.figure(figsize=(12,5))\n",
    "sns.countplot(x = df['City'], order = df['City'].value_counts().nlargest(10).index)"
   ]
  },
  {
   "cell_type": "code",
   "execution_count": null,
   "metadata": {
    "execution": {
     "iopub.execute_input": "2022-08-28T09:22:22.5006Z",
     "iopub.status.busy": "2022-08-28T09:22:22.500165Z",
     "iopub.status.idle": "2022-08-28T09:22:22.773247Z",
     "shell.execute_reply": "2022-08-28T09:22:22.7723Z",
     "shell.execute_reply.started": "2022-08-28T09:22:22.500561Z"
    }
   },
   "outputs": [],
   "source": [
    "plt.figure(figsize=(20,10))\n",
    "us_df = df[df['Country'] == 'United States']\n",
    "sns.countplot(x = us_df['Industry'], order = us_df['Industry'].value_counts().nlargest(5).index)"
   ]
  },
  {
   "cell_type": "code",
   "execution_count": null,
   "metadata": {
    "execution": {
     "iopub.execute_input": "2022-08-28T09:22:24.16818Z",
     "iopub.status.busy": "2022-08-28T09:22:24.167189Z",
     "iopub.status.idle": "2022-08-28T09:22:24.428715Z",
     "shell.execute_reply": "2022-08-28T09:22:24.42737Z",
     "shell.execute_reply.started": "2022-08-28T09:22:24.168131Z"
    }
   },
   "outputs": [],
   "source": [
    "plt.figure(figsize=(20,10))\n",
    "china_df = df[df['Country'] == 'China']\n",
    "sns.countplot(x = china_df['Industry'], order = china_df['Industry'].value_counts().nlargest(5).index)"
   ]
  },
  {
   "cell_type": "code",
   "execution_count": null,
   "metadata": {
    "execution": {
     "iopub.execute_input": "2022-08-28T09:22:25.583111Z",
     "iopub.status.busy": "2022-08-28T09:22:25.582328Z",
     "iopub.status.idle": "2022-08-28T09:22:25.863696Z",
     "shell.execute_reply": "2022-08-28T09:22:25.862468Z",
     "shell.execute_reply.started": "2022-08-28T09:22:25.583067Z"
    }
   },
   "outputs": [],
   "source": [
    "plt.figure(figsize=(20,10))\n",
    "india_df = df[df['Country'] == 'India']\n",
    "sns.countplot(x = india_df['Industry'], order = india_df['Industry'].value_counts().nlargest(5).index)"
   ]
  },
  {
   "cell_type": "code",
   "execution_count": null,
   "metadata": {
    "execution": {
     "iopub.execute_input": "2022-08-28T09:22:26.711695Z",
     "iopub.status.busy": "2022-08-28T09:22:26.711257Z",
     "iopub.status.idle": "2022-08-28T09:22:26.961177Z",
     "shell.execute_reply": "2022-08-28T09:22:26.959774Z",
     "shell.execute_reply.started": "2022-08-28T09:22:26.711658Z"
    }
   },
   "outputs": [],
   "source": [
    "plt.figure(figsize=(20,10))\n",
    "uk_df = df[df['Country'] == 'United Kingdom']\n",
    "sns.countplot(x = uk_df['Industry'], order = uk_df['Industry'].value_counts().nlargest(5).index)"
   ]
  },
  {
   "cell_type": "code",
   "execution_count": null,
   "metadata": {
    "execution": {
     "iopub.execute_input": "2022-08-28T09:22:27.801633Z",
     "iopub.status.busy": "2022-08-28T09:22:27.801173Z",
     "iopub.status.idle": "2022-08-28T09:22:28.089355Z",
     "shell.execute_reply": "2022-08-28T09:22:28.0881Z",
     "shell.execute_reply.started": "2022-08-28T09:22:27.801593Z"
    }
   },
   "outputs": [],
   "source": [
    "group_date_df = df.groupby(by = \"Date Joined\").count()['Company']\n",
    "year = group_date_df.index\n",
    "count_of_unicorns = group_date_df.values\n",
    "plt.figure(figsize=(12,5))\n",
    "sns.barplot(x = year, y=count_of_unicorns)"
   ]
  },
  {
   "cell_type": "markdown",
   "metadata": {},
   "source": [
    "### From the above plot we can see that In 2021 the number of companies joining as Unicorn startup skyrocketed after the recover from Covid Pandemic"
   ]
  },
  {
   "cell_type": "code",
   "execution_count": null,
   "metadata": {
    "execution": {
     "iopub.execute_input": "2022-08-28T09:22:30.545306Z",
     "iopub.status.busy": "2022-08-28T09:22:30.544849Z",
     "iopub.status.idle": "2022-08-28T09:22:30.558321Z",
     "shell.execute_reply": "2022-08-28T09:22:30.557009Z",
     "shell.execute_reply.started": "2022-08-28T09:22:30.545266Z"
    }
   },
   "outputs": [],
   "source": [
    "df_2022 = df[df['Date Joined'] == 2022]\n",
    "df_2022['Country'].value_counts().nlargest(5)/224*100"
   ]
  },
  {
   "cell_type": "markdown",
   "metadata": {},
   "source": [
    "### In 2022 till now United States and India are top 2 countries from where the startups are getting converted to Unicorns"
   ]
  },
  {
   "cell_type": "code",
   "execution_count": null,
   "metadata": {
    "execution": {
     "iopub.execute_input": "2022-08-28T09:22:33.096873Z",
     "iopub.status.busy": "2022-08-28T09:22:33.096452Z",
     "iopub.status.idle": "2022-08-28T09:22:33.108919Z",
     "shell.execute_reply": "2022-08-28T09:22:33.107661Z",
     "shell.execute_reply.started": "2022-08-28T09:22:33.096836Z"
    },
    "scrolled": true
   },
   "outputs": [],
   "source": [
    "round((df_2022['Industry'].value_counts().nlargest(5)/224)*100,2)"
   ]
  },
  {
   "cell_type": "markdown",
   "metadata": {},
   "source": [
    "### Fintech and Internet Software startups are dominating in current year of 2022"
   ]
  },
  {
   "cell_type": "code",
   "execution_count": null,
   "metadata": {
    "execution": {
     "iopub.execute_input": "2022-08-28T09:22:35.467966Z",
     "iopub.status.busy": "2022-08-28T09:22:35.467212Z",
     "iopub.status.idle": "2022-08-28T09:22:35.730712Z",
     "shell.execute_reply": "2022-08-28T09:22:35.729332Z",
     "shell.execute_reply.started": "2022-08-28T09:22:35.467923Z"
    }
   },
   "outputs": [],
   "source": [
    "plt.figure(figsize=(12,5))\n",
    "plt.scatter(x = df['Date Joined'], y = df['Valuation ($B)'])"
   ]
  },
  {
   "cell_type": "markdown",
   "metadata": {},
   "source": [
    "### Above graph can be interpreted as previously there were very less companies who could achieve 1B valuation and usually they would make big. But in recent years number of companies crossing this threshold have increased while success is getting divided among them.\n",
    "\n",
    "### After 2019 a good year we can see there is drop in effective valuations of the companies due to Pandemic which was again seems to be restored in consequent years 2021 and 2022"
   ]
  },
  {
   "cell_type": "markdown",
   "metadata": {},
   "source": [
    "### Investors Analysis"
   ]
  },
  {
   "cell_type": "code",
   "execution_count": null,
   "metadata": {
    "execution": {
     "iopub.execute_input": "2022-08-28T09:22:54.203189Z",
     "iopub.status.busy": "2022-08-28T09:22:54.2027Z",
     "iopub.status.idle": "2022-08-28T09:22:54.229586Z",
     "shell.execute_reply": "2022-08-28T09:22:54.22861Z",
     "shell.execute_reply.started": "2022-08-28T09:22:54.203148Z"
    }
   },
   "outputs": [],
   "source": [
    "investor_df = df[['Company','Country','Investor 1','Investor 2','Investor 3','Investor 4']]\n",
    "investor_df"
   ]
  },
  {
   "cell_type": "code",
   "execution_count": null,
   "metadata": {
    "execution": {
     "iopub.execute_input": "2022-08-28T09:22:55.463832Z",
     "iopub.status.busy": "2022-08-28T09:22:55.463119Z",
     "iopub.status.idle": "2022-08-28T09:22:55.473338Z",
     "shell.execute_reply": "2022-08-28T09:22:55.472079Z",
     "shell.execute_reply.started": "2022-08-28T09:22:55.46378Z"
    }
   },
   "outputs": [],
   "source": [
    "all_investors = pd.concat([df['Investor 1'],df['Investor 2'],df['Investor 3'],df['Investor 4']],axis = 0)"
   ]
  },
  {
   "cell_type": "code",
   "execution_count": null,
   "metadata": {
    "execution": {
     "iopub.execute_input": "2022-08-28T09:22:57.021293Z",
     "iopub.status.busy": "2022-08-28T09:22:57.020797Z",
     "iopub.status.idle": "2022-08-28T09:22:57.027456Z",
     "shell.execute_reply": "2022-08-28T09:22:57.025932Z",
     "shell.execute_reply.started": "2022-08-28T09:22:57.021252Z"
    }
   },
   "outputs": [],
   "source": [
    "all_investors.dropna(inplace=True)"
   ]
  },
  {
   "cell_type": "code",
   "execution_count": null,
   "metadata": {
    "execution": {
     "iopub.execute_input": "2022-08-28T09:22:58.025732Z",
     "iopub.status.busy": "2022-08-28T09:22:58.024903Z",
     "iopub.status.idle": "2022-08-28T09:22:58.037889Z",
     "shell.execute_reply": "2022-08-28T09:22:58.036551Z",
     "shell.execute_reply.started": "2022-08-28T09:22:58.025681Z"
    }
   },
   "outputs": [],
   "source": [
    "all_investors.value_counts().nlargest(10)"
   ]
  },
  {
   "cell_type": "markdown",
   "metadata": {},
   "source": [
    "### Tiger Global Management as investors is looks to be the most successfull in terms of funding the right startup. Sequoia Capital and its chinese company as well have been successfull."
   ]
  },
  {
   "cell_type": "code",
   "execution_count": null,
   "metadata": {
    "execution": {
     "iopub.execute_input": "2022-08-28T09:23:00.691091Z",
     "iopub.status.busy": "2022-08-28T09:23:00.690598Z",
     "iopub.status.idle": "2022-08-28T09:23:00.713975Z",
     "shell.execute_reply": "2022-08-28T09:23:00.712244Z",
     "shell.execute_reply.started": "2022-08-28T09:23:00.691027Z"
    }
   },
   "outputs": [],
   "source": [
    "df[df['Valuation ($B)'] == df['Valuation ($B)'].max()]"
   ]
  },
  {
   "cell_type": "code",
   "execution_count": null,
   "metadata": {
    "execution": {
     "iopub.execute_input": "2022-08-28T09:23:03.683362Z",
     "iopub.status.busy": "2022-08-28T09:23:03.681987Z",
     "iopub.status.idle": "2022-08-28T09:23:03.709763Z",
     "shell.execute_reply": "2022-08-28T09:23:03.708567Z",
     "shell.execute_reply.started": "2022-08-28T09:23:03.683303Z"
    }
   },
   "outputs": [],
   "source": [
    "df[df['Valuation ($B)'] > df['Valuation ($B)'].quantile(0.99)]"
   ]
  },
  {
   "cell_type": "markdown",
   "metadata": {},
   "source": [
    "# Conclusions From Analysis\n",
    "\n",
    "### - Most of the Companies that belong to the tag as Unicorns ($1B Valuation) are from Fintech industry or internet and services company.\n",
    "\n",
    "### - United states, China and India are leading the global markets with Unicorn startups and established companies.\n",
    "\n",
    "### - Valuations of the companies ranges a lot with some outliers but 75% of the companies have less than $3B valuation.\n",
    "\n",
    "### - Almost 75% of the unicorn companies belong to top 3 countries that are USA, China and India. United Kingdom and Germany are right behind with combined 6% of total companies.\n",
    "\n",
    "### - Fintech and Internet are predominant but E-Commerce, Healthcare and AI Companies are also been recently entering coveted title.\n",
    "\n",
    "### - In USA - San Francisco and New York, In China - Beijing and Shanghai, In India Bengaluru and In UK London are the base cities for these successfull startups\n",
    "\n",
    "### Top Countries with Dominant Industries in Unicorn Startups\n",
    "- USA - Internet Services and Fintech \n",
    "- India - Fintech, E-Commerce and Internet Services\n",
    "- China - E-Commerce, Auto and Transportation and Hardware\n",
    "\n"
   ]
  }
 ],
 "metadata": {
  "kernelspec": {
   "display_name": "Python 3 (ipykernel)",
   "language": "python",
   "name": "python3"
  },
  "language_info": {
   "codemirror_mode": {
    "name": "ipython",
    "version": 3
   },
   "file_extension": ".py",
   "mimetype": "text/x-python",
   "name": "python",
   "nbconvert_exporter": "python",
   "pygments_lexer": "ipython3",
   "version": "3.9.12"
  }
 },
 "nbformat": 4,
 "nbformat_minor": 4
}

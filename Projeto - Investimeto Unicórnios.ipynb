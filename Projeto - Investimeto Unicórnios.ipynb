{
 "cells": [
  {
   "cell_type": "markdown",
   "id": "04469686",
   "metadata": {},
   "source": [
    "## Formulando algumas perguntas simples\n",
    "- Maiores unicórnios por país \n",
    "- Cidades dominantes na produção de unicórnios\n",
    "- Qual indústria produz mais unicórnios \n",
    "- Faixa de avaliação de empresas Unicorn \n",
    "- Ano sábio padrão de empresas sendo unicórnio"
   ]
  },
  {
   "cell_type": "markdown",
   "id": "eaed7a32",
   "metadata": {},
   "source": [
    "Idéias que não pensei...\n",
    "- 1) Convertendo colunas de investidores em várias colunas com o nome do investidor -\n",
    "- 2) Agrupe pelos dados por ano e depois faça a análise - \n",
    "- 3) Selecione dataframes apenas para os principais países para obter granularidade - \n",
    "- 4) Análise do ano atual - "
   ]
  },
  {
   "cell_type": "code",
   "execution_count": 1,
   "id": "5259b03f",
   "metadata": {},
   "outputs": [],
   "source": [
    "# Importar as libs\n",
    "import numpy as np\n",
    "import pandas as pd\n",
    "import matplotlib.pyplot as plt\n",
    "import seaborn as sns\n",
    "\n",
    "import warnings\n",
    "warnings.filterwarnings('ignore')"
   ]
  },
  {
   "cell_type": "code",
   "execution_count": 2,
   "id": "2a39e64e",
   "metadata": {},
   "outputs": [],
   "source": [
    "df = pd.read_csv('Startups+in+2021+end.csv')"
   ]
  },
  {
   "cell_type": "code",
   "execution_count": 3,
   "id": "ba0ecde3",
   "metadata": {},
   "outputs": [
    {
     "data": {
      "text/html": [
       "<div>\n",
       "<style scoped>\n",
       "    .dataframe tbody tr th:only-of-type {\n",
       "        vertical-align: middle;\n",
       "    }\n",
       "\n",
       "    .dataframe tbody tr th {\n",
       "        vertical-align: top;\n",
       "    }\n",
       "\n",
       "    .dataframe thead th {\n",
       "        text-align: right;\n",
       "    }\n",
       "</style>\n",
       "<table border=\"1\" class=\"dataframe\">\n",
       "  <thead>\n",
       "    <tr style=\"text-align: right;\">\n",
       "      <th></th>\n",
       "      <th>Unnamed: 0</th>\n",
       "      <th>Company</th>\n",
       "      <th>Valuation ($B)</th>\n",
       "      <th>Date Joined</th>\n",
       "      <th>Country</th>\n",
       "      <th>City</th>\n",
       "      <th>Industry</th>\n",
       "      <th>Select Investors</th>\n",
       "    </tr>\n",
       "  </thead>\n",
       "  <tbody>\n",
       "    <tr>\n",
       "      <th>0</th>\n",
       "      <td>0</td>\n",
       "      <td>Bytedance</td>\n",
       "      <td>$140</td>\n",
       "      <td>4/7/2017</td>\n",
       "      <td>China</td>\n",
       "      <td>Beijing</td>\n",
       "      <td>Artificial intelligence</td>\n",
       "      <td>Sequoia Capital China, SIG Asia Investments, S...</td>\n",
       "    </tr>\n",
       "    <tr>\n",
       "      <th>1</th>\n",
       "      <td>1</td>\n",
       "      <td>SpaceX</td>\n",
       "      <td>$100.3</td>\n",
       "      <td>12/1/2012</td>\n",
       "      <td>United States</td>\n",
       "      <td>Hawthorne</td>\n",
       "      <td>Other</td>\n",
       "      <td>Founders Fund, Draper Fisher Jurvetson, Rothen...</td>\n",
       "    </tr>\n",
       "    <tr>\n",
       "      <th>2</th>\n",
       "      <td>2</td>\n",
       "      <td>Stripe</td>\n",
       "      <td>$95</td>\n",
       "      <td>1/23/2014</td>\n",
       "      <td>United States</td>\n",
       "      <td>San Francisco</td>\n",
       "      <td>Fintech</td>\n",
       "      <td>Khosla Ventures, LowercaseCapital, capitalG</td>\n",
       "    </tr>\n",
       "    <tr>\n",
       "      <th>3</th>\n",
       "      <td>3</td>\n",
       "      <td>Klarna</td>\n",
       "      <td>$45.6</td>\n",
       "      <td>12/12/2011</td>\n",
       "      <td>Sweden</td>\n",
       "      <td>Stockholm</td>\n",
       "      <td>Fintech</td>\n",
       "      <td>Institutional Venture Partners, Sequoia Capita...</td>\n",
       "    </tr>\n",
       "    <tr>\n",
       "      <th>4</th>\n",
       "      <td>4</td>\n",
       "      <td>Canva</td>\n",
       "      <td>$40</td>\n",
       "      <td>1/8/2018</td>\n",
       "      <td>Australia</td>\n",
       "      <td>Surry Hills</td>\n",
       "      <td>Internet software &amp; services</td>\n",
       "      <td>Sequoia Capital China, Blackbird Ventures, Mat...</td>\n",
       "    </tr>\n",
       "  </tbody>\n",
       "</table>\n",
       "</div>"
      ],
      "text/plain": [
       "   Unnamed: 0    Company Valuation ($B) Date Joined        Country  \\\n",
       "0           0  Bytedance           $140    4/7/2017          China   \n",
       "1           1     SpaceX         $100.3   12/1/2012  United States   \n",
       "2           2     Stripe            $95   1/23/2014  United States   \n",
       "3           3     Klarna          $45.6  12/12/2011         Sweden   \n",
       "4           4      Canva            $40    1/8/2018      Australia   \n",
       "\n",
       "            City                      Industry  \\\n",
       "0        Beijing       Artificial intelligence   \n",
       "1      Hawthorne                         Other   \n",
       "2  San Francisco                       Fintech   \n",
       "3      Stockholm                       Fintech   \n",
       "4    Surry Hills  Internet software & services   \n",
       "\n",
       "                                    Select Investors  \n",
       "0  Sequoia Capital China, SIG Asia Investments, S...  \n",
       "1  Founders Fund, Draper Fisher Jurvetson, Rothen...  \n",
       "2        Khosla Ventures, LowercaseCapital, capitalG  \n",
       "3  Institutional Venture Partners, Sequoia Capita...  \n",
       "4  Sequoia Capital China, Blackbird Ventures, Mat...  "
      ]
     },
     "execution_count": 3,
     "metadata": {},
     "output_type": "execute_result"
    }
   ],
   "source": [
    "df.head()"
   ]
  },
  {
   "cell_type": "code",
   "execution_count": 4,
   "id": "c7bd324c",
   "metadata": {},
   "outputs": [
    {
     "data": {
      "text/plain": [
       "Unnamed: 0           0\n",
       "Company              0\n",
       "Valuation ($B)       0\n",
       "Date Joined          0\n",
       "Country              0\n",
       "City                15\n",
       "Industry             0\n",
       "Select Investors     1\n",
       "dtype: int64"
      ]
     },
     "execution_count": 4,
     "metadata": {},
     "output_type": "execute_result"
    }
   ],
   "source": [
    "df.isnull().sum()"
   ]
  },
  {
   "cell_type": "markdown",
   "id": "a44984e5",
   "metadata": {},
   "source": [
    "- Renomeando colunas para melhor consulta"
   ]
  },
  {
   "cell_type": "code",
   "execution_count": 5,
   "id": "2c102a5e",
   "metadata": {},
   "outputs": [],
   "source": [
    "df.rename( columns={\n",
    "    'Unnamed: 0' : 'Id',\n",
    "    'Company' : 'Empresa',\n",
    "    'Valuation ($B)' : 'Valor ($)',\n",
    "    'Date Joined' : 'Data de Adesão',\n",
    "    'Country' : 'Pais',\n",
    "    'City' : 'Cidade',\n",
    "    'Industry': 'Setor',\n",
    "    'Select Investors': 'Investidores',\n",
    "}, inplace=True )"
   ]
  },
  {
   "cell_type": "markdown",
   "id": "cd395af9",
   "metadata": {},
   "source": [
    "# Ajustes de Variáveis"
   ]
  },
  {
   "cell_type": "code",
   "execution_count": 6,
   "id": "ae8996c1",
   "metadata": {},
   "outputs": [
    {
     "name": "stdout",
     "output_type": "stream",
     "text": [
      "<class 'pandas.core.frame.DataFrame'>\n",
      "RangeIndex: 936 entries, 0 to 935\n",
      "Data columns (total 8 columns):\n",
      " #   Column          Non-Null Count  Dtype \n",
      "---  ------          --------------  ----- \n",
      " 0   Id              936 non-null    int64 \n",
      " 1   Empresa         936 non-null    object\n",
      " 2   Valor ($)       936 non-null    object\n",
      " 3   Data de Adesão  936 non-null    object\n",
      " 4   Pais            936 non-null    object\n",
      " 5   Cidade          921 non-null    object\n",
      " 6   Setor           936 non-null    object\n",
      " 7   Investidores    935 non-null    object\n",
      "dtypes: int64(1), object(7)\n",
      "memory usage: 58.6+ KB\n"
     ]
    }
   ],
   "source": [
    "df.info()"
   ]
  },
  {
   "cell_type": "markdown",
   "id": "a6c6fffb",
   "metadata": {},
   "source": [
    "- Nota-se que a coluna 2  está no tipo string, vou converter para numérico, tornando a análise mais precisa\n",
    "'Valor ($) 936 non-null object' "
   ]
  },
  {
   "cell_type": "code",
   "execution_count": 7,
   "id": "3d63d7e0",
   "metadata": {},
   "outputs": [],
   "source": [
    "df['Valuation ($B)'] = df['Valor ($)'].str.replace(r'$','',regex=True).astype(float)"
   ]
  },
  {
   "cell_type": "code",
   "execution_count": 8,
   "id": "bd46e91d",
   "metadata": {},
   "outputs": [
    {
     "data": {
      "text/html": [
       "<div>\n",
       "<style scoped>\n",
       "    .dataframe tbody tr th:only-of-type {\n",
       "        vertical-align: middle;\n",
       "    }\n",
       "\n",
       "    .dataframe tbody tr th {\n",
       "        vertical-align: top;\n",
       "    }\n",
       "\n",
       "    .dataframe thead th {\n",
       "        text-align: right;\n",
       "    }\n",
       "</style>\n",
       "<table border=\"1\" class=\"dataframe\">\n",
       "  <thead>\n",
       "    <tr style=\"text-align: right;\">\n",
       "      <th></th>\n",
       "      <th>Id</th>\n",
       "      <th>Empresa</th>\n",
       "      <th>Valor ($)</th>\n",
       "      <th>Data de Adesão</th>\n",
       "      <th>Pais</th>\n",
       "      <th>Cidade</th>\n",
       "      <th>Setor</th>\n",
       "      <th>Investidores</th>\n",
       "      <th>Valuation ($B)</th>\n",
       "    </tr>\n",
       "  </thead>\n",
       "  <tbody>\n",
       "    <tr>\n",
       "      <th>0</th>\n",
       "      <td>0</td>\n",
       "      <td>Bytedance</td>\n",
       "      <td>140.0</td>\n",
       "      <td>4/7/2017</td>\n",
       "      <td>China</td>\n",
       "      <td>Beijing</td>\n",
       "      <td>Artificial intelligence</td>\n",
       "      <td>Sequoia Capital China, SIG Asia Investments, S...</td>\n",
       "      <td>140.0</td>\n",
       "    </tr>\n",
       "    <tr>\n",
       "      <th>1</th>\n",
       "      <td>1</td>\n",
       "      <td>SpaceX</td>\n",
       "      <td>100.3</td>\n",
       "      <td>12/1/2012</td>\n",
       "      <td>United States</td>\n",
       "      <td>Hawthorne</td>\n",
       "      <td>Other</td>\n",
       "      <td>Founders Fund, Draper Fisher Jurvetson, Rothen...</td>\n",
       "      <td>100.3</td>\n",
       "    </tr>\n",
       "    <tr>\n",
       "      <th>2</th>\n",
       "      <td>2</td>\n",
       "      <td>Stripe</td>\n",
       "      <td>95.0</td>\n",
       "      <td>1/23/2014</td>\n",
       "      <td>United States</td>\n",
       "      <td>San Francisco</td>\n",
       "      <td>Fintech</td>\n",
       "      <td>Khosla Ventures, LowercaseCapital, capitalG</td>\n",
       "      <td>95.0</td>\n",
       "    </tr>\n",
       "    <tr>\n",
       "      <th>3</th>\n",
       "      <td>3</td>\n",
       "      <td>Klarna</td>\n",
       "      <td>45.6</td>\n",
       "      <td>12/12/2011</td>\n",
       "      <td>Sweden</td>\n",
       "      <td>Stockholm</td>\n",
       "      <td>Fintech</td>\n",
       "      <td>Institutional Venture Partners, Sequoia Capita...</td>\n",
       "      <td>45.6</td>\n",
       "    </tr>\n",
       "    <tr>\n",
       "      <th>4</th>\n",
       "      <td>4</td>\n",
       "      <td>Canva</td>\n",
       "      <td>40.0</td>\n",
       "      <td>1/8/2018</td>\n",
       "      <td>Australia</td>\n",
       "      <td>Surry Hills</td>\n",
       "      <td>Internet software &amp; services</td>\n",
       "      <td>Sequoia Capital China, Blackbird Ventures, Mat...</td>\n",
       "      <td>40.0</td>\n",
       "    </tr>\n",
       "  </tbody>\n",
       "</table>\n",
       "</div>"
      ],
      "text/plain": [
       "   Id    Empresa  Valor ($) Data de Adesão           Pais         Cidade  \\\n",
       "0   0  Bytedance      140.0       4/7/2017          China        Beijing   \n",
       "1   1     SpaceX      100.3      12/1/2012  United States      Hawthorne   \n",
       "2   2     Stripe       95.0      1/23/2014  United States  San Francisco   \n",
       "3   3     Klarna       45.6     12/12/2011         Sweden      Stockholm   \n",
       "4   4      Canva       40.0       1/8/2018      Australia    Surry Hills   \n",
       "\n",
       "                          Setor  \\\n",
       "0       Artificial intelligence   \n",
       "1                         Other   \n",
       "2                       Fintech   \n",
       "3                       Fintech   \n",
       "4  Internet software & services   \n",
       "\n",
       "                                        Investidores  Valuation ($B)  \n",
       "0  Sequoia Capital China, SIG Asia Investments, S...           140.0  \n",
       "1  Founders Fund, Draper Fisher Jurvetson, Rothen...           100.3  \n",
       "2        Khosla Ventures, LowercaseCapital, capitalG            95.0  \n",
       "3  Institutional Venture Partners, Sequoia Capita...            45.6  \n",
       "4  Sequoia Capital China, Blackbird Ventures, Mat...            40.0  "
      ]
     },
     "execution_count": 8,
     "metadata": {},
     "output_type": "execute_result"
    }
   ],
   "source": [
    "df['Valor ($)'] = pd.to_numeric( df['Valor ($)'].apply( lambda Linha: Linha.replace('$', '') ) )\n",
    "\n",
    "df.head()"
   ]
  },
  {
   "cell_type": "code",
   "execution_count": 9,
   "id": "010a708a",
   "metadata": {},
   "outputs": [],
   "source": [
    "# Conversão para Data\n",
    "df['Data de Adesão'] = pd.to_datetime( df['Data de Adesão'] )"
   ]
  },
  {
   "cell_type": "code",
   "execution_count": 10,
   "id": "50d9ec87",
   "metadata": {},
   "outputs": [
    {
     "data": {
      "text/html": [
       "<div>\n",
       "<style scoped>\n",
       "    .dataframe tbody tr th:only-of-type {\n",
       "        vertical-align: middle;\n",
       "    }\n",
       "\n",
       "    .dataframe tbody tr th {\n",
       "        vertical-align: top;\n",
       "    }\n",
       "\n",
       "    .dataframe thead th {\n",
       "        text-align: right;\n",
       "    }\n",
       "</style>\n",
       "<table border=\"1\" class=\"dataframe\">\n",
       "  <thead>\n",
       "    <tr style=\"text-align: right;\">\n",
       "      <th></th>\n",
       "      <th>Id</th>\n",
       "      <th>Empresa</th>\n",
       "      <th>Valor ($)</th>\n",
       "      <th>Data de Adesão</th>\n",
       "      <th>Pais</th>\n",
       "      <th>Cidade</th>\n",
       "      <th>Setor</th>\n",
       "      <th>Investidores</th>\n",
       "      <th>Valuation ($B)</th>\n",
       "      <th>Mes</th>\n",
       "      <th>Ano</th>\n",
       "    </tr>\n",
       "  </thead>\n",
       "  <tbody>\n",
       "    <tr>\n",
       "      <th>0</th>\n",
       "      <td>0</td>\n",
       "      <td>Bytedance</td>\n",
       "      <td>140.0</td>\n",
       "      <td>2017-04-07</td>\n",
       "      <td>China</td>\n",
       "      <td>Beijing</td>\n",
       "      <td>Artificial intelligence</td>\n",
       "      <td>Sequoia Capital China, SIG Asia Investments, S...</td>\n",
       "      <td>140.0</td>\n",
       "      <td>4</td>\n",
       "      <td>2017</td>\n",
       "    </tr>\n",
       "    <tr>\n",
       "      <th>1</th>\n",
       "      <td>1</td>\n",
       "      <td>SpaceX</td>\n",
       "      <td>100.3</td>\n",
       "      <td>2012-12-01</td>\n",
       "      <td>United States</td>\n",
       "      <td>Hawthorne</td>\n",
       "      <td>Other</td>\n",
       "      <td>Founders Fund, Draper Fisher Jurvetson, Rothen...</td>\n",
       "      <td>100.3</td>\n",
       "      <td>12</td>\n",
       "      <td>2012</td>\n",
       "    </tr>\n",
       "    <tr>\n",
       "      <th>2</th>\n",
       "      <td>2</td>\n",
       "      <td>Stripe</td>\n",
       "      <td>95.0</td>\n",
       "      <td>2014-01-23</td>\n",
       "      <td>United States</td>\n",
       "      <td>San Francisco</td>\n",
       "      <td>Fintech</td>\n",
       "      <td>Khosla Ventures, LowercaseCapital, capitalG</td>\n",
       "      <td>95.0</td>\n",
       "      <td>1</td>\n",
       "      <td>2014</td>\n",
       "    </tr>\n",
       "    <tr>\n",
       "      <th>3</th>\n",
       "      <td>3</td>\n",
       "      <td>Klarna</td>\n",
       "      <td>45.6</td>\n",
       "      <td>2011-12-12</td>\n",
       "      <td>Sweden</td>\n",
       "      <td>Stockholm</td>\n",
       "      <td>Fintech</td>\n",
       "      <td>Institutional Venture Partners, Sequoia Capita...</td>\n",
       "      <td>45.6</td>\n",
       "      <td>12</td>\n",
       "      <td>2011</td>\n",
       "    </tr>\n",
       "    <tr>\n",
       "      <th>4</th>\n",
       "      <td>4</td>\n",
       "      <td>Canva</td>\n",
       "      <td>40.0</td>\n",
       "      <td>2018-01-08</td>\n",
       "      <td>Australia</td>\n",
       "      <td>Surry Hills</td>\n",
       "      <td>Internet software &amp; services</td>\n",
       "      <td>Sequoia Capital China, Blackbird Ventures, Mat...</td>\n",
       "      <td>40.0</td>\n",
       "      <td>1</td>\n",
       "      <td>2018</td>\n",
       "    </tr>\n",
       "  </tbody>\n",
       "</table>\n",
       "</div>"
      ],
      "text/plain": [
       "   Id    Empresa  Valor ($) Data de Adesão           Pais         Cidade  \\\n",
       "0   0  Bytedance      140.0     2017-04-07          China        Beijing   \n",
       "1   1     SpaceX      100.3     2012-12-01  United States      Hawthorne   \n",
       "2   2     Stripe       95.0     2014-01-23  United States  San Francisco   \n",
       "3   3     Klarna       45.6     2011-12-12         Sweden      Stockholm   \n",
       "4   4      Canva       40.0     2018-01-08      Australia    Surry Hills   \n",
       "\n",
       "                          Setor  \\\n",
       "0       Artificial intelligence   \n",
       "1                         Other   \n",
       "2                       Fintech   \n",
       "3                       Fintech   \n",
       "4  Internet software & services   \n",
       "\n",
       "                                        Investidores  Valuation ($B)  Mes  \\\n",
       "0  Sequoia Capital China, SIG Asia Investments, S...           140.0    4   \n",
       "1  Founders Fund, Draper Fisher Jurvetson, Rothen...           100.3   12   \n",
       "2        Khosla Ventures, LowercaseCapital, capitalG            95.0    1   \n",
       "3  Institutional Venture Partners, Sequoia Capita...            45.6   12   \n",
       "4  Sequoia Capital China, Blackbird Ventures, Mat...            40.0    1   \n",
       "\n",
       "    Ano  \n",
       "0  2017  \n",
       "1  2012  \n",
       "2  2014  \n",
       "3  2011  \n",
       "4  2018  "
      ]
     },
     "execution_count": 10,
     "metadata": {},
     "output_type": "execute_result"
    }
   ],
   "source": [
    "# Extrair o Ano e Mes\n",
    "df['Mes'] = pd.DatetimeIndex( df['Data de Adesão'] ).month\n",
    "df['Ano'] = pd.DatetimeIndex( df['Data de Adesão'] ).year\n",
    "\n",
    "df.head()"
   ]
  },
  {
   "cell_type": "code",
   "execution_count": 11,
   "id": "b0e4e161",
   "metadata": {},
   "outputs": [
    {
     "data": {
      "text/html": [
       "<div>\n",
       "<style scoped>\n",
       "    .dataframe tbody tr th:only-of-type {\n",
       "        vertical-align: middle;\n",
       "    }\n",
       "\n",
       "    .dataframe tbody tr th {\n",
       "        vertical-align: top;\n",
       "    }\n",
       "\n",
       "    .dataframe thead th {\n",
       "        text-align: right;\n",
       "    }\n",
       "</style>\n",
       "<table border=\"1\" class=\"dataframe\">\n",
       "  <thead>\n",
       "    <tr style=\"text-align: right;\">\n",
       "      <th></th>\n",
       "      <th>Pais</th>\n",
       "      <th>Ano</th>\n",
       "      <th>Mes</th>\n",
       "      <th>Empresa</th>\n",
       "      <th>Id</th>\n",
       "    </tr>\n",
       "  </thead>\n",
       "  <tbody>\n",
       "    <tr>\n",
       "      <th>0</th>\n",
       "      <td>Argentina</td>\n",
       "      <td>2021</td>\n",
       "      <td>8</td>\n",
       "      <td>Uala</td>\n",
       "      <td>1</td>\n",
       "    </tr>\n",
       "    <tr>\n",
       "      <th>1</th>\n",
       "      <td>Australia</td>\n",
       "      <td>2018</td>\n",
       "      <td>1</td>\n",
       "      <td>Canva</td>\n",
       "      <td>1</td>\n",
       "    </tr>\n",
       "    <tr>\n",
       "      <th>2</th>\n",
       "      <td>Australia</td>\n",
       "      <td>2019</td>\n",
       "      <td>3</td>\n",
       "      <td>Airwallex</td>\n",
       "      <td>1</td>\n",
       "    </tr>\n",
       "    <tr>\n",
       "      <th>3</th>\n",
       "      <td>Australia</td>\n",
       "      <td>2021</td>\n",
       "      <td>5</td>\n",
       "      <td>SafetyCulture</td>\n",
       "      <td>1</td>\n",
       "    </tr>\n",
       "    <tr>\n",
       "      <th>4</th>\n",
       "      <td>Australia</td>\n",
       "      <td>2021</td>\n",
       "      <td>7</td>\n",
       "      <td>Culture Amp</td>\n",
       "      <td>1</td>\n",
       "    </tr>\n",
       "    <tr>\n",
       "      <th>...</th>\n",
       "      <td>...</td>\n",
       "      <td>...</td>\n",
       "      <td>...</td>\n",
       "      <td>...</td>\n",
       "      <td>...</td>\n",
       "    </tr>\n",
       "    <tr>\n",
       "      <th>931</th>\n",
       "      <td>United States</td>\n",
       "      <td>2021</td>\n",
       "      <td>12</td>\n",
       "      <td>Panther Labs</td>\n",
       "      <td>1</td>\n",
       "    </tr>\n",
       "    <tr>\n",
       "      <th>932</th>\n",
       "      <td>United States</td>\n",
       "      <td>2021</td>\n",
       "      <td>12</td>\n",
       "      <td>ReliaQuest</td>\n",
       "      <td>1</td>\n",
       "    </tr>\n",
       "    <tr>\n",
       "      <th>933</th>\n",
       "      <td>United States</td>\n",
       "      <td>2021</td>\n",
       "      <td>12</td>\n",
       "      <td>YipitData</td>\n",
       "      <td>1</td>\n",
       "    </tr>\n",
       "    <tr>\n",
       "      <th>934</th>\n",
       "      <td>United States,</td>\n",
       "      <td>2021</td>\n",
       "      <td>9</td>\n",
       "      <td>TrialSpark</td>\n",
       "      <td>1</td>\n",
       "    </tr>\n",
       "    <tr>\n",
       "      <th>935</th>\n",
       "      <td>Vietnam</td>\n",
       "      <td>2021</td>\n",
       "      <td>10</td>\n",
       "      <td>Sky Mavis</td>\n",
       "      <td>1</td>\n",
       "    </tr>\n",
       "  </tbody>\n",
       "</table>\n",
       "<p>936 rows × 5 columns</p>\n",
       "</div>"
      ],
      "text/plain": [
       "               Pais   Ano  Mes        Empresa  Id\n",
       "0         Argentina  2021    8           Uala   1\n",
       "1         Australia  2018    1          Canva   1\n",
       "2         Australia  2019    3      Airwallex   1\n",
       "3         Australia  2021    5  SafetyCulture   1\n",
       "4         Australia  2021    7    Culture Amp   1\n",
       "..              ...   ...  ...            ...  ..\n",
       "931   United States  2021   12   Panther Labs   1\n",
       "932   United States  2021   12     ReliaQuest   1\n",
       "933   United States  2021   12      YipitData   1\n",
       "934  United States,  2021    9     TrialSpark   1\n",
       "935         Vietnam  2021   10      Sky Mavis   1\n",
       "\n",
       "[936 rows x 5 columns]"
      ]
     },
     "execution_count": 11,
     "metadata": {},
     "output_type": "execute_result"
    }
   ],
   "source": [
    "Analise_Agrupada = df.groupby( by=['Pais', 'Ano', 'Mes', 'Empresa'] ).count()['Id'].reset_index()\n",
    "\n",
    "Analise_Agrupada"
   ]
  },
  {
   "cell_type": "markdown",
   "id": "f4080139",
   "metadata": {},
   "source": [
    "# Análise Exploratoria"
   ]
  },
  {
   "cell_type": "code",
   "execution_count": 12,
   "id": "b0807755",
   "metadata": {
    "scrolled": false
   },
   "outputs": [
    {
     "data": {
      "image/png": "[encoded data removed]",
      "text/plain": [
       "<Figure size 1080x432 with 1 Axes>"
      ]
     },
     "metadata": {
      "needs_background": "light"
     },
     "output_type": "display_data"
    }
   ],
   "source": [
    "plt.figure( figsize=(15,6) )\n",
    "plt.title('Analise dos Setores')\n",
    "plt.bar( df['Setor'].value_counts().index, df['Setor'].value_counts()  )\n",
    "plt.xticks( rotation=45, ha='right' );"
   ]
  },
  {
   "cell_type": "code",
   "execution_count": 20,
   "id": "d3b532c9",
   "metadata": {},
   "outputs": [
    {
     "data": {
      "text/plain": [
       "<AxesSubplot:title={'center':'Top 10 Países Geradores de uNICÓRNIOS'}, xlabel='Pais', ylabel='count'>"
      ]
     },
     "execution_count": 20,
     "metadata": {},
     "output_type": "execute_result"
    },
    {
     "data": {
      "image/png": "[encoded data removed]",
      "text/plain": [
       "<Figure size 1080x432 with 1 Axes>"
      ]
     },
     "metadata": {
      "needs_background": "light"
     },
     "output_type": "display_data"
    }
   ],
   "source": [
    "plt.figure( figsize=(15,6) )\n",
    "plt.title('Top 10 Países Geradores de uNICÓRNIOS')\n",
    "sns.countplot(x = df['Pais'], order = df['Pais'].value_counts().nlargest(10).index)"
   ]
  },
  {
   "cell_type": "code",
   "execution_count": 21,
   "id": "dd9919e5",
   "metadata": {
    "scrolled": true
   },
   "outputs": [
    {
     "data": {
      "text/plain": [
       "<AxesSubplot:title={'center':'Top 10 Países Geradores de uNICÓRNIOS'}, xlabel='Cidade', ylabel='count'>"
      ]
     },
     "execution_count": 21,
     "metadata": {},
     "output_type": "execute_result"
    },
    {
     "data": {
      "image/png": "[encoded data removed]",
      "text/plain": [
       "<Figure size 1080x432 with 1 Axes>"
      ]
     },
     "metadata": {
      "needs_background": "light"
     },
     "output_type": "display_data"
    }
   ],
   "source": [
    "plt.figure( figsize=(15,6) )\n",
    "plt.title('Top 10 Países Geradores de uNICÓRNIOS')\n",
    "sns.countplot(x = df['Cidade'], order = df['Cidade'].value_counts().nlargest(10).index)"
   ]
  },
  {
   "cell_type": "code",
   "execution_count": 60,
   "id": "a5c99a53",
   "metadata": {},
   "outputs": [
    {
     "data": {
      "text/plain": [
       "<AxesSubplot:xlabel='Empresa'>"
      ]
     },
     "execution_count": 60,
     "metadata": {},
     "output_type": "execute_result"
    },
    {
     "data": {
      "text/plain": [
       "<Figure size 1080x576 with 0 Axes>"
      ]
     },
     "metadata": {},
     "output_type": "display_data"
    },
    {
     "data": {
      "image/png": "[encoded data removed]",
      "text/plain": [
       "<Figure size 432x288 with 1 Axes>"
      ]
     },
     "metadata": {
      "needs_background": "light"
     },
     "output_type": "display_data"
    }
   ],
   "source": [
    "brasil = df[df['Pais'] == 'Brazil']\n",
    "plt.figure(figsize=(15,8))\n",
    "brasil.plot('Empresa', 'Valor ($)', kind='bar')\n"
   ]
  },
  {
   "cell_type": "markdown",
   "id": "11b05199",
   "metadata": {},
   "source": [
    "### Análise Principais Países"
   ]
  },
  {
   "cell_type": "code",
   "execution_count": 75,
   "id": "fbdab70d",
   "metadata": {},
   "outputs": [
    {
     "ename": "TypeError",
     "evalue": "'DataFrame' object is not callable",
     "output_type": "error",
     "traceback": [
      "\u001b[1;31m---------------------------------------------------------------------------\u001b[0m",
      "\u001b[1;31mTypeError\u001b[0m                                 Traceback (most recent call last)",
      "Input \u001b[1;32mIn [75]\u001b[0m, in \u001b[0;36m<cell line: 1>\u001b[1;34m()\u001b[0m\n\u001b[1;32m----> 1\u001b[0m analise_pais \u001b[38;5;241m=\u001b[39m \u001b[43mdf\u001b[49m\u001b[43m(\u001b[49m\u001b[43mby\u001b[49m\u001b[38;5;241;43m=\u001b[39;49m\u001b[43m[\u001b[49m\u001b[38;5;124;43m'\u001b[39;49m\u001b[38;5;124;43mPais\u001b[39;49m\u001b[38;5;124;43m'\u001b[39;49m\u001b[43m]\u001b[49m\u001b[43m)\u001b[49m\u001b[38;5;241m.\u001b[39msum()[\u001b[38;5;124m'\u001b[39m\u001b[38;5;124mValor($)\u001b[39m\u001b[38;5;124m'\u001b[39m]\u001b[38;5;241m.\u001b[39mreset_index()\n\u001b[0;32m      2\u001b[0m analise_pais\u001b[38;5;241m.\u001b[39mhead()\n",
      "\u001b[1;31mTypeError\u001b[0m: 'DataFrame' object is not callable"
     ]
    }
   ],
   "source": [
    "analise_pais = df(by=['Pais']).sum()['Valor($)'].reset_index()\n",
    "analise_pais.head()"
   ]
  },
  {
   "cell_type": "markdown",
   "id": "516b0aab",
   "metadata": {},
   "source": [
    "### Separando Mês e Ano para análises mais detalhadas."
   ]
  },
  {
   "cell_type": "code",
   "execution_count": 14,
   "id": "a9cabdbb",
   "metadata": {},
   "outputs": [
    {
     "data": {
      "text/html": [
       "<div>\n",
       "<style scoped>\n",
       "    .dataframe tbody tr th:only-of-type {\n",
       "        vertical-align: middle;\n",
       "    }\n",
       "\n",
       "    .dataframe tbody tr th {\n",
       "        vertical-align: top;\n",
       "    }\n",
       "\n",
       "    .dataframe thead th {\n",
       "        text-align: right;\n",
       "    }\n",
       "</style>\n",
       "<table border=\"1\" class=\"dataframe\">\n",
       "  <thead>\n",
       "    <tr style=\"text-align: right;\">\n",
       "      <th></th>\n",
       "      <th>Pais</th>\n",
       "      <th>Ano</th>\n",
       "      <th>Mes</th>\n",
       "      <th>Empresa</th>\n",
       "      <th>Id</th>\n",
       "    </tr>\n",
       "  </thead>\n",
       "  <tbody>\n",
       "    <tr>\n",
       "      <th>0</th>\n",
       "      <td>Argentina</td>\n",
       "      <td>2021</td>\n",
       "      <td>8</td>\n",
       "      <td>Uala</td>\n",
       "      <td>1</td>\n",
       "    </tr>\n",
       "    <tr>\n",
       "      <th>1</th>\n",
       "      <td>Australia</td>\n",
       "      <td>2018</td>\n",
       "      <td>1</td>\n",
       "      <td>Canva</td>\n",
       "      <td>1</td>\n",
       "    </tr>\n",
       "    <tr>\n",
       "      <th>2</th>\n",
       "      <td>Australia</td>\n",
       "      <td>2019</td>\n",
       "      <td>3</td>\n",
       "      <td>Airwallex</td>\n",
       "      <td>1</td>\n",
       "    </tr>\n",
       "    <tr>\n",
       "      <th>3</th>\n",
       "      <td>Australia</td>\n",
       "      <td>2021</td>\n",
       "      <td>5</td>\n",
       "      <td>SafetyCulture</td>\n",
       "      <td>1</td>\n",
       "    </tr>\n",
       "    <tr>\n",
       "      <th>4</th>\n",
       "      <td>Australia</td>\n",
       "      <td>2021</td>\n",
       "      <td>7</td>\n",
       "      <td>Culture Amp</td>\n",
       "      <td>1</td>\n",
       "    </tr>\n",
       "    <tr>\n",
       "      <th>...</th>\n",
       "      <td>...</td>\n",
       "      <td>...</td>\n",
       "      <td>...</td>\n",
       "      <td>...</td>\n",
       "      <td>...</td>\n",
       "    </tr>\n",
       "    <tr>\n",
       "      <th>931</th>\n",
       "      <td>United States</td>\n",
       "      <td>2021</td>\n",
       "      <td>12</td>\n",
       "      <td>Panther Labs</td>\n",
       "      <td>1</td>\n",
       "    </tr>\n",
       "    <tr>\n",
       "      <th>932</th>\n",
       "      <td>United States</td>\n",
       "      <td>2021</td>\n",
       "      <td>12</td>\n",
       "      <td>ReliaQuest</td>\n",
       "      <td>1</td>\n",
       "    </tr>\n",
       "    <tr>\n",
       "      <th>933</th>\n",
       "      <td>United States</td>\n",
       "      <td>2021</td>\n",
       "      <td>12</td>\n",
       "      <td>YipitData</td>\n",
       "      <td>1</td>\n",
       "    </tr>\n",
       "    <tr>\n",
       "      <th>934</th>\n",
       "      <td>United States,</td>\n",
       "      <td>2021</td>\n",
       "      <td>9</td>\n",
       "      <td>TrialSpark</td>\n",
       "      <td>1</td>\n",
       "    </tr>\n",
       "    <tr>\n",
       "      <th>935</th>\n",
       "      <td>Vietnam</td>\n",
       "      <td>2021</td>\n",
       "      <td>10</td>\n",
       "      <td>Sky Mavis</td>\n",
       "      <td>1</td>\n",
       "    </tr>\n",
       "  </tbody>\n",
       "</table>\n",
       "<p>936 rows × 5 columns</p>\n",
       "</div>"
      ],
      "text/plain": [
       "               Pais   Ano  Mes        Empresa  Id\n",
       "0         Argentina  2021    8           Uala   1\n",
       "1         Australia  2018    1          Canva   1\n",
       "2         Australia  2019    3      Airwallex   1\n",
       "3         Australia  2021    5  SafetyCulture   1\n",
       "4         Australia  2021    7    Culture Amp   1\n",
       "..              ...   ...  ...            ...  ..\n",
       "931   United States  2021   12   Panther Labs   1\n",
       "932   United States  2021   12     ReliaQuest   1\n",
       "933   United States  2021   12      YipitData   1\n",
       "934  United States,  2021    9     TrialSpark   1\n",
       "935         Vietnam  2021   10      Sky Mavis   1\n",
       "\n",
       "[936 rows x 5 columns]"
      ]
     },
     "execution_count": 14,
     "metadata": {},
     "output_type": "execute_result"
    }
   ],
   "source": [
    "analise_agrupada = df.groupby( by=['Pais', 'Ano', 'Mes', 'Empresa'] ).count()['Id'].reset_index()\n",
    "\n",
    "analise_agrupadaAnalise_agrupada = df.groupby( by=['Pais', 'Ano', 'Mes', 'Empresa'] ).count()['Id'].reset_index()\n",
    "\n",
    "analise_agrupada"
   ]
  },
  {
   "cell_type": "code",
   "execution_count": 15,
   "id": "c1d4ec0a",
   "metadata": {},
   "outputs": [
    {
     "data": {
      "text/html": [
       "<div>\n",
       "<style scoped>\n",
       "    .dataframe tbody tr th:only-of-type {\n",
       "        vertical-align: middle;\n",
       "    }\n",
       "\n",
       "    .dataframe tbody tr th {\n",
       "        vertical-align: top;\n",
       "    }\n",
       "\n",
       "    .dataframe thead th {\n",
       "        text-align: right;\n",
       "    }\n",
       "</style>\n",
       "<table border=\"1\" class=\"dataframe\">\n",
       "  <thead>\n",
       "    <tr style=\"text-align: right;\">\n",
       "      <th></th>\n",
       "      <th>Pais</th>\n",
       "      <th>Ano</th>\n",
       "      <th>Mes</th>\n",
       "      <th>Empresa</th>\n",
       "      <th>Id</th>\n",
       "    </tr>\n",
       "  </thead>\n",
       "  <tbody>\n",
       "    <tr>\n",
       "      <th>0</th>\n",
       "      <td>Argentina</td>\n",
       "      <td>2021</td>\n",
       "      <td>8</td>\n",
       "      <td>Uala</td>\n",
       "      <td>1</td>\n",
       "    </tr>\n",
       "    <tr>\n",
       "      <th>1</th>\n",
       "      <td>Australia</td>\n",
       "      <td>2018</td>\n",
       "      <td>1</td>\n",
       "      <td>Canva</td>\n",
       "      <td>1</td>\n",
       "    </tr>\n",
       "    <tr>\n",
       "      <th>2</th>\n",
       "      <td>Australia</td>\n",
       "      <td>2019</td>\n",
       "      <td>3</td>\n",
       "      <td>Airwallex</td>\n",
       "      <td>1</td>\n",
       "    </tr>\n",
       "    <tr>\n",
       "      <th>3</th>\n",
       "      <td>Australia</td>\n",
       "      <td>2021</td>\n",
       "      <td>5</td>\n",
       "      <td>SafetyCulture</td>\n",
       "      <td>1</td>\n",
       "    </tr>\n",
       "    <tr>\n",
       "      <th>4</th>\n",
       "      <td>Australia</td>\n",
       "      <td>2021</td>\n",
       "      <td>7</td>\n",
       "      <td>Culture Amp</td>\n",
       "      <td>1</td>\n",
       "    </tr>\n",
       "    <tr>\n",
       "      <th>...</th>\n",
       "      <td>...</td>\n",
       "      <td>...</td>\n",
       "      <td>...</td>\n",
       "      <td>...</td>\n",
       "      <td>...</td>\n",
       "    </tr>\n",
       "    <tr>\n",
       "      <th>931</th>\n",
       "      <td>United States</td>\n",
       "      <td>2021</td>\n",
       "      <td>12</td>\n",
       "      <td>Panther Labs</td>\n",
       "      <td>1</td>\n",
       "    </tr>\n",
       "    <tr>\n",
       "      <th>932</th>\n",
       "      <td>United States</td>\n",
       "      <td>2021</td>\n",
       "      <td>12</td>\n",
       "      <td>ReliaQuest</td>\n",
       "      <td>1</td>\n",
       "    </tr>\n",
       "    <tr>\n",
       "      <th>933</th>\n",
       "      <td>United States</td>\n",
       "      <td>2021</td>\n",
       "      <td>12</td>\n",
       "      <td>YipitData</td>\n",
       "      <td>1</td>\n",
       "    </tr>\n",
       "    <tr>\n",
       "      <th>934</th>\n",
       "      <td>United States,</td>\n",
       "      <td>2021</td>\n",
       "      <td>9</td>\n",
       "      <td>TrialSpark</td>\n",
       "      <td>1</td>\n",
       "    </tr>\n",
       "    <tr>\n",
       "      <th>935</th>\n",
       "      <td>Vietnam</td>\n",
       "      <td>2021</td>\n",
       "      <td>10</td>\n",
       "      <td>Sky Mavis</td>\n",
       "      <td>1</td>\n",
       "    </tr>\n",
       "  </tbody>\n",
       "</table>\n",
       "<p>936 rows × 5 columns</p>\n",
       "</div>"
      ],
      "text/plain": [
       "               Pais   Ano  Mes        Empresa  Id\n",
       "0         Argentina  2021    8           Uala   1\n",
       "1         Australia  2018    1          Canva   1\n",
       "2         Australia  2019    3      Airwallex   1\n",
       "3         Australia  2021    5  SafetyCulture   1\n",
       "4         Australia  2021    7    Culture Amp   1\n",
       "..              ...   ...  ...            ...  ..\n",
       "931   United States  2021   12   Panther Labs   1\n",
       "932   United States  2021   12     ReliaQuest   1\n",
       "933   United States  2021   12      YipitData   1\n",
       "934  United States,  2021    9     TrialSpark   1\n",
       "935         Vietnam  2021   10      Sky Mavis   1\n",
       "\n",
       "[936 rows x 5 columns]"
      ]
     },
     "execution_count": 15,
     "metadata": {},
     "output_type": "execute_result"
    }
   ],
   "source": [
    "analise_agrupada.loc[\n",
    "    analise_agrupada\n",
    "]\n",
    "analise_agrupada"
   ]
  },
  {
   "cell_type": "code",
   "execution_count": 53,
   "id": "ec5993b4",
   "metadata": {},
   "outputs": [
    {
     "data": {
      "text/plain": [
       "<AxesSubplot:xlabel='Empresa'>"
      ]
     },
     "execution_count": 53,
     "metadata": {},
     "output_type": "execute_result"
    },
    {
     "data": {
      "image/png": "[encoded data removed]",
      "text/plain": [
       "<Figure size 432x288 with 1 Axes>"
      ]
     },
     "metadata": {
      "needs_background": "light"
     },
     "output_type": "display_data"
    }
   ],
   "source": []
  },
  {
   "cell_type": "code",
   "execution_count": null,
   "id": "c2b088ea",
   "metadata": {},
   "outputs": [],
   "source": []
  }
 ],
 "metadata": {
  "kernelspec": {
   "display_name": "Python 3 (ipykernel)",
   "language": "python",
   "name": "python3"
  },
  "language_info": {
   "codemirror_mode": {
    "name": "ipython",
    "version": 3
   },
   "file_extension": ".py",
   "mimetype": "text/x-python",
   "name": "python",
   "nbconvert_exporter": "python",
   "pygments_lexer": "ipython3",
   "version": "3.9.12"
  }
 },
 "nbformat": 4,
 "nbformat_minor": 5
}
